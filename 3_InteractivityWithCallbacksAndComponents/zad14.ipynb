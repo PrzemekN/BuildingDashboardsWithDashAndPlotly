{
 "cells": [
  {
   "cell_type": "code",
   "execution_count": 1,
   "outputs": [],
   "source": [
    "# A date picker callback"
   ],
   "metadata": {
    "collapsed": false,
    "pycharm": {
     "name": "#%%\n"
    }
   }
  },
  {
   "cell_type": "code",
   "execution_count": 1,
   "outputs": [],
   "source": [
    "from jupyter_dash import JupyterDash\n",
    "import pandas as pd\n",
    "import plotly.express as px\n",
    "from dash import Dash, html, dcc\n",
    "from dash.dependencies import Input, Output\n",
    "from datetime import datetime, date"
   ],
   "metadata": {
    "collapsed": false,
    "pycharm": {
     "name": "#%%\n"
    }
   }
  },
  {
   "cell_type": "code",
   "execution_count": 2,
   "outputs": [],
   "source": [
    "ecom_sales = pd.read_csv('../dataset/ecom_sales.csv',sep=';')"
   ],
   "metadata": {
    "collapsed": false,
    "pycharm": {
     "name": "#%%\n"
    }
   }
  },
  {
   "cell_type": "code",
   "execution_count": 3,
   "outputs": [
    {
     "data": {
      "text/plain": "     Unnamed: 0  InvoiceNo  UnitPrice  OrderValue  Quantity         Country  \\\n0             0     549185       0.85       10.20        12  United Kingdom   \n1             1     576381       2.95       35.40        12  United Kingdom   \n2             2     551192       1.25       20.00        16  United Kingdom   \n3             3     573553       7.46        7.46         1  United Kingdom   \n4             4     539436       2.51        2.51         1  United Kingdom   \n..          ...        ...        ...         ...       ...             ...   \n695         695     564087       1.25       20.00        16       Hong Kong   \n696         696     553148       0.55       13.20        24       Hong Kong   \n697         697     564087       4.95       29.70         6       Hong Kong   \n698         698     553148       0.85       27.20        32       Hong Kong   \n699         699     564087       1.25       20.00        16       Hong Kong   \n\n    InvoiceDate InvoiceTime Year-Month Major Category  Minor Category  \\\n0        7/4/11       09:35    2011-04        Clothes            Tops   \n1      15/11/11       09:26    2011-11        Clothes           Shoes   \n2       27/4/11       10:54    2011-04        Kitchen         Cutlery   \n3      31/10/11       13:48    2011-10         Garden            Turf   \n4      17/12/10       14:49    2010-12         Garden           Hoses   \n..          ...         ...        ...            ...             ...   \n695     23/8/11       09:38    2011-08        Clothes            Tops   \n696     13/5/11       14:09    2011-05         Garden           Hoses   \n697     23/8/11       09:38    2011-08         Garden           Rakes   \n698     13/5/11       14:09    2011-05        Kitchen  Cooking Knives   \n699     23/8/11       09:38    2011-08        Clothes            Tops   \n\n                            Description  \n0      PACK OF 20 NAPKINS PANTRY DESIGN  \n1       NATURAL SLATE HEART CHALKBOARD   \n2                36 PENCILS TUBE SKULLS  \n3    SET 6 SCHOOL MILK BOTTLES IN CRATE  \n4                    FINE WICKER HEART   \n..                                  ...  \n695            WOOD STAMP SET THANK YOU  \n696                 GREEN POLKADOT BOWL  \n697                 TOY TIDY SPACEBOY    \n698    RED RETROSPOT CHILDRENS UMBRELLA  \n699      PACK OF 60 SPACEBOY CAKE CASES  \n\n[700 rows x 12 columns]",
      "text/html": "<div>\n<style scoped>\n    .dataframe tbody tr th:only-of-type {\n        vertical-align: middle;\n    }\n\n    .dataframe tbody tr th {\n        vertical-align: top;\n    }\n\n    .dataframe thead th {\n        text-align: right;\n    }\n</style>\n<table border=\"1\" class=\"dataframe\">\n  <thead>\n    <tr style=\"text-align: right;\">\n      <th></th>\n      <th>Unnamed: 0</th>\n      <th>InvoiceNo</th>\n      <th>UnitPrice</th>\n      <th>OrderValue</th>\n      <th>Quantity</th>\n      <th>Country</th>\n      <th>InvoiceDate</th>\n      <th>InvoiceTime</th>\n      <th>Year-Month</th>\n      <th>Major Category</th>\n      <th>Minor Category</th>\n      <th>Description</th>\n    </tr>\n  </thead>\n  <tbody>\n    <tr>\n      <th>0</th>\n      <td>0</td>\n      <td>549185</td>\n      <td>0.85</td>\n      <td>10.20</td>\n      <td>12</td>\n      <td>United Kingdom</td>\n      <td>7/4/11</td>\n      <td>09:35</td>\n      <td>2011-04</td>\n      <td>Clothes</td>\n      <td>Tops</td>\n      <td>PACK OF 20 NAPKINS PANTRY DESIGN</td>\n    </tr>\n    <tr>\n      <th>1</th>\n      <td>1</td>\n      <td>576381</td>\n      <td>2.95</td>\n      <td>35.40</td>\n      <td>12</td>\n      <td>United Kingdom</td>\n      <td>15/11/11</td>\n      <td>09:26</td>\n      <td>2011-11</td>\n      <td>Clothes</td>\n      <td>Shoes</td>\n      <td>NATURAL SLATE HEART CHALKBOARD</td>\n    </tr>\n    <tr>\n      <th>2</th>\n      <td>2</td>\n      <td>551192</td>\n      <td>1.25</td>\n      <td>20.00</td>\n      <td>16</td>\n      <td>United Kingdom</td>\n      <td>27/4/11</td>\n      <td>10:54</td>\n      <td>2011-04</td>\n      <td>Kitchen</td>\n      <td>Cutlery</td>\n      <td>36 PENCILS TUBE SKULLS</td>\n    </tr>\n    <tr>\n      <th>3</th>\n      <td>3</td>\n      <td>573553</td>\n      <td>7.46</td>\n      <td>7.46</td>\n      <td>1</td>\n      <td>United Kingdom</td>\n      <td>31/10/11</td>\n      <td>13:48</td>\n      <td>2011-10</td>\n      <td>Garden</td>\n      <td>Turf</td>\n      <td>SET 6 SCHOOL MILK BOTTLES IN CRATE</td>\n    </tr>\n    <tr>\n      <th>4</th>\n      <td>4</td>\n      <td>539436</td>\n      <td>2.51</td>\n      <td>2.51</td>\n      <td>1</td>\n      <td>United Kingdom</td>\n      <td>17/12/10</td>\n      <td>14:49</td>\n      <td>2010-12</td>\n      <td>Garden</td>\n      <td>Hoses</td>\n      <td>FINE WICKER HEART</td>\n    </tr>\n    <tr>\n      <th>...</th>\n      <td>...</td>\n      <td>...</td>\n      <td>...</td>\n      <td>...</td>\n      <td>...</td>\n      <td>...</td>\n      <td>...</td>\n      <td>...</td>\n      <td>...</td>\n      <td>...</td>\n      <td>...</td>\n      <td>...</td>\n    </tr>\n    <tr>\n      <th>695</th>\n      <td>695</td>\n      <td>564087</td>\n      <td>1.25</td>\n      <td>20.00</td>\n      <td>16</td>\n      <td>Hong Kong</td>\n      <td>23/8/11</td>\n      <td>09:38</td>\n      <td>2011-08</td>\n      <td>Clothes</td>\n      <td>Tops</td>\n      <td>WOOD STAMP SET THANK YOU</td>\n    </tr>\n    <tr>\n      <th>696</th>\n      <td>696</td>\n      <td>553148</td>\n      <td>0.55</td>\n      <td>13.20</td>\n      <td>24</td>\n      <td>Hong Kong</td>\n      <td>13/5/11</td>\n      <td>14:09</td>\n      <td>2011-05</td>\n      <td>Garden</td>\n      <td>Hoses</td>\n      <td>GREEN POLKADOT BOWL</td>\n    </tr>\n    <tr>\n      <th>697</th>\n      <td>697</td>\n      <td>564087</td>\n      <td>4.95</td>\n      <td>29.70</td>\n      <td>6</td>\n      <td>Hong Kong</td>\n      <td>23/8/11</td>\n      <td>09:38</td>\n      <td>2011-08</td>\n      <td>Garden</td>\n      <td>Rakes</td>\n      <td>TOY TIDY SPACEBOY</td>\n    </tr>\n    <tr>\n      <th>698</th>\n      <td>698</td>\n      <td>553148</td>\n      <td>0.85</td>\n      <td>27.20</td>\n      <td>32</td>\n      <td>Hong Kong</td>\n      <td>13/5/11</td>\n      <td>14:09</td>\n      <td>2011-05</td>\n      <td>Kitchen</td>\n      <td>Cooking Knives</td>\n      <td>RED RETROSPOT CHILDRENS UMBRELLA</td>\n    </tr>\n    <tr>\n      <th>699</th>\n      <td>699</td>\n      <td>564087</td>\n      <td>1.25</td>\n      <td>20.00</td>\n      <td>16</td>\n      <td>Hong Kong</td>\n      <td>23/8/11</td>\n      <td>09:38</td>\n      <td>2011-08</td>\n      <td>Clothes</td>\n      <td>Tops</td>\n      <td>PACK OF 60 SPACEBOY CAKE CASES</td>\n    </tr>\n  </tbody>\n</table>\n<p>700 rows × 12 columns</p>\n</div>"
     },
     "execution_count": 3,
     "metadata": {},
     "output_type": "execute_result"
    }
   ],
   "source": [
    "ecom_sales"
   ],
   "metadata": {
    "collapsed": false,
    "pycharm": {
     "name": "#%%\n"
    }
   }
  },
  {
   "cell_type": "code",
   "execution_count": 5,
   "outputs": [],
   "source": [
    "logo_link = 'https://assets.datacamp.com/production/repositories/5893/datasets/fdbe0accd2581a0c505dab4b29ebb66cf72a1803/e-comlogo.png'"
   ],
   "metadata": {
    "collapsed": false,
    "pycharm": {
     "name": "#%%\n"
    }
   }
  },
  {
   "cell_type": "code",
   "execution_count": 4,
   "outputs": [],
   "source": [
    "sales = ecom_sales.copy(deep=True)"
   ],
   "metadata": {
    "collapsed": false,
    "pycharm": {
     "name": "#%%\n"
    }
   }
  },
  {
   "cell_type": "code",
   "execution_count": 5,
   "outputs": [
    {
     "data": {
      "text/plain": "     Unnamed: 0  InvoiceNo  UnitPrice  OrderValue  Quantity         Country  \\\n0             0     549185       0.85       10.20        12  United Kingdom   \n1             1     576381       2.95       35.40        12  United Kingdom   \n2             2     551192       1.25       20.00        16  United Kingdom   \n3             3     573553       7.46        7.46         1  United Kingdom   \n4             4     539436       2.51        2.51         1  United Kingdom   \n..          ...        ...        ...         ...       ...             ...   \n695         695     564087       1.25       20.00        16       Hong Kong   \n696         696     553148       0.55       13.20        24       Hong Kong   \n697         697     564087       4.95       29.70         6       Hong Kong   \n698         698     553148       0.85       27.20        32       Hong Kong   \n699         699     564087       1.25       20.00        16       Hong Kong   \n\n    InvoiceDate InvoiceTime Year-Month Major Category  Minor Category  \\\n0        7/4/11       09:35    2011-04        Clothes            Tops   \n1      15/11/11       09:26    2011-11        Clothes           Shoes   \n2       27/4/11       10:54    2011-04        Kitchen         Cutlery   \n3      31/10/11       13:48    2011-10         Garden            Turf   \n4      17/12/10       14:49    2010-12         Garden           Hoses   \n..          ...         ...        ...            ...             ...   \n695     23/8/11       09:38    2011-08        Clothes            Tops   \n696     13/5/11       14:09    2011-05         Garden           Hoses   \n697     23/8/11       09:38    2011-08         Garden           Rakes   \n698     13/5/11       14:09    2011-05        Kitchen  Cooking Knives   \n699     23/8/11       09:38    2011-08        Clothes            Tops   \n\n                            Description  \n0      PACK OF 20 NAPKINS PANTRY DESIGN  \n1       NATURAL SLATE HEART CHALKBOARD   \n2                36 PENCILS TUBE SKULLS  \n3    SET 6 SCHOOL MILK BOTTLES IN CRATE  \n4                    FINE WICKER HEART   \n..                                  ...  \n695            WOOD STAMP SET THANK YOU  \n696                 GREEN POLKADOT BOWL  \n697                 TOY TIDY SPACEBOY    \n698    RED RETROSPOT CHILDRENS UMBRELLA  \n699      PACK OF 60 SPACEBOY CAKE CASES  \n\n[700 rows x 12 columns]",
      "text/html": "<div>\n<style scoped>\n    .dataframe tbody tr th:only-of-type {\n        vertical-align: middle;\n    }\n\n    .dataframe tbody tr th {\n        vertical-align: top;\n    }\n\n    .dataframe thead th {\n        text-align: right;\n    }\n</style>\n<table border=\"1\" class=\"dataframe\">\n  <thead>\n    <tr style=\"text-align: right;\">\n      <th></th>\n      <th>Unnamed: 0</th>\n      <th>InvoiceNo</th>\n      <th>UnitPrice</th>\n      <th>OrderValue</th>\n      <th>Quantity</th>\n      <th>Country</th>\n      <th>InvoiceDate</th>\n      <th>InvoiceTime</th>\n      <th>Year-Month</th>\n      <th>Major Category</th>\n      <th>Minor Category</th>\n      <th>Description</th>\n    </tr>\n  </thead>\n  <tbody>\n    <tr>\n      <th>0</th>\n      <td>0</td>\n      <td>549185</td>\n      <td>0.85</td>\n      <td>10.20</td>\n      <td>12</td>\n      <td>United Kingdom</td>\n      <td>7/4/11</td>\n      <td>09:35</td>\n      <td>2011-04</td>\n      <td>Clothes</td>\n      <td>Tops</td>\n      <td>PACK OF 20 NAPKINS PANTRY DESIGN</td>\n    </tr>\n    <tr>\n      <th>1</th>\n      <td>1</td>\n      <td>576381</td>\n      <td>2.95</td>\n      <td>35.40</td>\n      <td>12</td>\n      <td>United Kingdom</td>\n      <td>15/11/11</td>\n      <td>09:26</td>\n      <td>2011-11</td>\n      <td>Clothes</td>\n      <td>Shoes</td>\n      <td>NATURAL SLATE HEART CHALKBOARD</td>\n    </tr>\n    <tr>\n      <th>2</th>\n      <td>2</td>\n      <td>551192</td>\n      <td>1.25</td>\n      <td>20.00</td>\n      <td>16</td>\n      <td>United Kingdom</td>\n      <td>27/4/11</td>\n      <td>10:54</td>\n      <td>2011-04</td>\n      <td>Kitchen</td>\n      <td>Cutlery</td>\n      <td>36 PENCILS TUBE SKULLS</td>\n    </tr>\n    <tr>\n      <th>3</th>\n      <td>3</td>\n      <td>573553</td>\n      <td>7.46</td>\n      <td>7.46</td>\n      <td>1</td>\n      <td>United Kingdom</td>\n      <td>31/10/11</td>\n      <td>13:48</td>\n      <td>2011-10</td>\n      <td>Garden</td>\n      <td>Turf</td>\n      <td>SET 6 SCHOOL MILK BOTTLES IN CRATE</td>\n    </tr>\n    <tr>\n      <th>4</th>\n      <td>4</td>\n      <td>539436</td>\n      <td>2.51</td>\n      <td>2.51</td>\n      <td>1</td>\n      <td>United Kingdom</td>\n      <td>17/12/10</td>\n      <td>14:49</td>\n      <td>2010-12</td>\n      <td>Garden</td>\n      <td>Hoses</td>\n      <td>FINE WICKER HEART</td>\n    </tr>\n    <tr>\n      <th>...</th>\n      <td>...</td>\n      <td>...</td>\n      <td>...</td>\n      <td>...</td>\n      <td>...</td>\n      <td>...</td>\n      <td>...</td>\n      <td>...</td>\n      <td>...</td>\n      <td>...</td>\n      <td>...</td>\n      <td>...</td>\n    </tr>\n    <tr>\n      <th>695</th>\n      <td>695</td>\n      <td>564087</td>\n      <td>1.25</td>\n      <td>20.00</td>\n      <td>16</td>\n      <td>Hong Kong</td>\n      <td>23/8/11</td>\n      <td>09:38</td>\n      <td>2011-08</td>\n      <td>Clothes</td>\n      <td>Tops</td>\n      <td>WOOD STAMP SET THANK YOU</td>\n    </tr>\n    <tr>\n      <th>696</th>\n      <td>696</td>\n      <td>553148</td>\n      <td>0.55</td>\n      <td>13.20</td>\n      <td>24</td>\n      <td>Hong Kong</td>\n      <td>13/5/11</td>\n      <td>14:09</td>\n      <td>2011-05</td>\n      <td>Garden</td>\n      <td>Hoses</td>\n      <td>GREEN POLKADOT BOWL</td>\n    </tr>\n    <tr>\n      <th>697</th>\n      <td>697</td>\n      <td>564087</td>\n      <td>4.95</td>\n      <td>29.70</td>\n      <td>6</td>\n      <td>Hong Kong</td>\n      <td>23/8/11</td>\n      <td>09:38</td>\n      <td>2011-08</td>\n      <td>Garden</td>\n      <td>Rakes</td>\n      <td>TOY TIDY SPACEBOY</td>\n    </tr>\n    <tr>\n      <th>698</th>\n      <td>698</td>\n      <td>553148</td>\n      <td>0.85</td>\n      <td>27.20</td>\n      <td>32</td>\n      <td>Hong Kong</td>\n      <td>13/5/11</td>\n      <td>14:09</td>\n      <td>2011-05</td>\n      <td>Kitchen</td>\n      <td>Cooking Knives</td>\n      <td>RED RETROSPOT CHILDRENS UMBRELLA</td>\n    </tr>\n    <tr>\n      <th>699</th>\n      <td>699</td>\n      <td>564087</td>\n      <td>1.25</td>\n      <td>20.00</td>\n      <td>16</td>\n      <td>Hong Kong</td>\n      <td>23/8/11</td>\n      <td>09:38</td>\n      <td>2011-08</td>\n      <td>Clothes</td>\n      <td>Tops</td>\n      <td>PACK OF 60 SPACEBOY CAKE CASES</td>\n    </tr>\n  </tbody>\n</table>\n<p>700 rows × 12 columns</p>\n</div>"
     },
     "execution_count": 5,
     "metadata": {},
     "output_type": "execute_result"
    }
   ],
   "source": [
    "sales"
   ],
   "metadata": {
    "collapsed": false,
    "pycharm": {
     "name": "#%%\n"
    }
   }
  },
  {
   "cell_type": "code",
   "execution_count": 7,
   "outputs": [],
   "source": [
    "zagregowany = sales.groupby(\"Major Category\")[\"OrderValue\"].agg(\"sum\")"
   ],
   "metadata": {
    "collapsed": false,
    "pycharm": {
     "name": "#%%\n"
    }
   }
  },
  {
   "cell_type": "code",
   "execution_count": 8,
   "outputs": [
    {
     "data": {
      "text/plain": "Major Category\nClothes      4950.37\nGarden       6040.08\nHousehold    4986.58\nKitchen      6407.90\nName: OrderValue, dtype: float64"
     },
     "execution_count": 8,
     "metadata": {},
     "output_type": "execute_result"
    }
   ],
   "source": [
    "zagregowany"
   ],
   "metadata": {
    "collapsed": false,
    "pycharm": {
     "name": "#%%\n"
    }
   }
  },
  {
   "cell_type": "code",
   "execution_count": 9,
   "outputs": [],
   "source": [
    "zagregowany2 = sales.groupby(\"Major Category\")[\"OrderValue\"].agg(\"sum\").reset_index(name=\"total Sales ($)\")"
   ],
   "metadata": {
    "collapsed": false,
    "pycharm": {
     "name": "#%%\n"
    }
   }
  },
  {
   "cell_type": "code",
   "execution_count": 10,
   "outputs": [
    {
     "data": {
      "text/plain": "  Major Category  total Sales ($)\n0        Clothes          4950.37\n1         Garden          6040.08\n2      Household          4986.58\n3        Kitchen          6407.90",
      "text/html": "<div>\n<style scoped>\n    .dataframe tbody tr th:only-of-type {\n        vertical-align: middle;\n    }\n\n    .dataframe tbody tr th {\n        vertical-align: top;\n    }\n\n    .dataframe thead th {\n        text-align: right;\n    }\n</style>\n<table border=\"1\" class=\"dataframe\">\n  <thead>\n    <tr style=\"text-align: right;\">\n      <th></th>\n      <th>Major Category</th>\n      <th>total Sales ($)</th>\n    </tr>\n  </thead>\n  <tbody>\n    <tr>\n      <th>0</th>\n      <td>Clothes</td>\n      <td>4950.37</td>\n    </tr>\n    <tr>\n      <th>1</th>\n      <td>Garden</td>\n      <td>6040.08</td>\n    </tr>\n    <tr>\n      <th>2</th>\n      <td>Household</td>\n      <td>4986.58</td>\n    </tr>\n    <tr>\n      <th>3</th>\n      <td>Kitchen</td>\n      <td>6407.90</td>\n    </tr>\n  </tbody>\n</table>\n</div>"
     },
     "execution_count": 10,
     "metadata": {},
     "output_type": "execute_result"
    }
   ],
   "source": [
    "zagregowany2"
   ],
   "metadata": {
    "collapsed": false,
    "pycharm": {
     "name": "#%%\n"
    }
   }
  },
  {
   "cell_type": "code",
   "execution_count": 6,
   "outputs": [
    {
     "data": {
      "text/plain": "   Unnamed: 0  InvoiceNo  UnitPrice  OrderValue  Quantity         Country  \\\n0           0     549185       0.85       10.20        12  United Kingdom   \n1           1     576381       2.95       35.40        12  United Kingdom   \n2           2     551192       1.25       20.00        16  United Kingdom   \n3           3     573553       7.46        7.46         1  United Kingdom   \n4           4     539436       2.51        2.51         1  United Kingdom   \n\n  InvoiceDate InvoiceTime Year-Month Major Category Minor Category  \\\n0  2011-07-04       09:35    2011-04        Clothes           Tops   \n1  2011-11-15       09:26    2011-11        Clothes          Shoes   \n2  2011-04-27       10:54    2011-04        Kitchen        Cutlery   \n3  2011-10-31       13:48    2011-10         Garden           Turf   \n4  2010-12-17       14:49    2010-12         Garden          Hoses   \n\n                          Description  \n0    PACK OF 20 NAPKINS PANTRY DESIGN  \n1     NATURAL SLATE HEART CHALKBOARD   \n2              36 PENCILS TUBE SKULLS  \n3  SET 6 SCHOOL MILK BOTTLES IN CRATE  \n4                  FINE WICKER HEART   ",
      "text/html": "<div>\n<style scoped>\n    .dataframe tbody tr th:only-of-type {\n        vertical-align: middle;\n    }\n\n    .dataframe tbody tr th {\n        vertical-align: top;\n    }\n\n    .dataframe thead th {\n        text-align: right;\n    }\n</style>\n<table border=\"1\" class=\"dataframe\">\n  <thead>\n    <tr style=\"text-align: right;\">\n      <th></th>\n      <th>Unnamed: 0</th>\n      <th>InvoiceNo</th>\n      <th>UnitPrice</th>\n      <th>OrderValue</th>\n      <th>Quantity</th>\n      <th>Country</th>\n      <th>InvoiceDate</th>\n      <th>InvoiceTime</th>\n      <th>Year-Month</th>\n      <th>Major Category</th>\n      <th>Minor Category</th>\n      <th>Description</th>\n    </tr>\n  </thead>\n  <tbody>\n    <tr>\n      <th>0</th>\n      <td>0</td>\n      <td>549185</td>\n      <td>0.85</td>\n      <td>10.20</td>\n      <td>12</td>\n      <td>United Kingdom</td>\n      <td>2011-07-04</td>\n      <td>09:35</td>\n      <td>2011-04</td>\n      <td>Clothes</td>\n      <td>Tops</td>\n      <td>PACK OF 20 NAPKINS PANTRY DESIGN</td>\n    </tr>\n    <tr>\n      <th>1</th>\n      <td>1</td>\n      <td>576381</td>\n      <td>2.95</td>\n      <td>35.40</td>\n      <td>12</td>\n      <td>United Kingdom</td>\n      <td>2011-11-15</td>\n      <td>09:26</td>\n      <td>2011-11</td>\n      <td>Clothes</td>\n      <td>Shoes</td>\n      <td>NATURAL SLATE HEART CHALKBOARD</td>\n    </tr>\n    <tr>\n      <th>2</th>\n      <td>2</td>\n      <td>551192</td>\n      <td>1.25</td>\n      <td>20.00</td>\n      <td>16</td>\n      <td>United Kingdom</td>\n      <td>2011-04-27</td>\n      <td>10:54</td>\n      <td>2011-04</td>\n      <td>Kitchen</td>\n      <td>Cutlery</td>\n      <td>36 PENCILS TUBE SKULLS</td>\n    </tr>\n    <tr>\n      <th>3</th>\n      <td>3</td>\n      <td>573553</td>\n      <td>7.46</td>\n      <td>7.46</td>\n      <td>1</td>\n      <td>United Kingdom</td>\n      <td>2011-10-31</td>\n      <td>13:48</td>\n      <td>2011-10</td>\n      <td>Garden</td>\n      <td>Turf</td>\n      <td>SET 6 SCHOOL MILK BOTTLES IN CRATE</td>\n    </tr>\n    <tr>\n      <th>4</th>\n      <td>4</td>\n      <td>539436</td>\n      <td>2.51</td>\n      <td>2.51</td>\n      <td>1</td>\n      <td>United Kingdom</td>\n      <td>2010-12-17</td>\n      <td>14:49</td>\n      <td>2010-12</td>\n      <td>Garden</td>\n      <td>Hoses</td>\n      <td>FINE WICKER HEART</td>\n    </tr>\n  </tbody>\n</table>\n</div>"
     },
     "execution_count": 6,
     "metadata": {},
     "output_type": "execute_result"
    }
   ],
   "source": [
    "# zmiana typu kolumny na date\n",
    "ecom_sales['InvoiceDate'] = pd.to_datetime(ecom_sales['InvoiceDate'])\n",
    "ecom_sales.head()"
   ],
   "metadata": {
    "collapsed": false,
    "pycharm": {
     "name": "#%%\n"
    }
   }
  },
  {
   "cell_type": "code",
   "execution_count": null,
   "outputs": [],
   "source": [],
   "metadata": {
    "collapsed": false,
    "pycharm": {
     "name": "#%%\n"
    }
   }
  },
  {
   "cell_type": "code",
   "execution_count": null,
   "outputs": [],
   "source": [],
   "metadata": {
    "collapsed": false,
    "pycharm": {
     "name": "#%%\n"
    }
   }
  },
  {
   "cell_type": "code",
   "execution_count": 8,
   "outputs": [],
   "source": [
    "app =  Dash(__name__)"
   ],
   "metadata": {
    "collapsed": false,
    "pycharm": {
     "name": "#%%\n"
    }
   }
  },
  {
   "cell_type": "code",
   "execution_count": 9,
   "outputs": [
    {
     "data": {
      "text/plain": "Timestamp('2010-01-12 00:00:00')"
     },
     "execution_count": 9,
     "metadata": {},
     "output_type": "execute_result"
    }
   ],
   "source": [
    "min_date = ecom_sales['InvoiceDate'].min()\n",
    "min_date"
   ],
   "metadata": {
    "collapsed": false,
    "pycharm": {
     "name": "#%%\n"
    }
   }
  },
  {
   "cell_type": "code",
   "execution_count": 10,
   "outputs": [],
   "source": [
    "app.layout =  html.Div([\n",
    "    html.Img(src=logo_link),\n",
    "    html.H1('Sales breakdown'),\n",
    "    html.Div(children=[\n",
    "        html.H2('Controls'),\n",
    "        html.Br(),\n",
    "        html.H3('Sale Date Select'),\n",
    "        dcc.DatePickerSingle(id='sale_date',\n",
    "                             min_date_allowed=ecom_sales['InvoiceDate'].min(), max_date_allowed=ecom_sales['InvoiceDate'].max(),\n",
    "                             initial_visible_month=date(2011,4,1), date=date(2011,4,11))\n",
    "    ]),\n",
    "    html.Div(children=[\n",
    "        dcc.Graph(id='sales_cat'),\n",
    "        html.H2('Daily sales by Major Category')\n",
    "    ])\n",
    "])"
   ],
   "metadata": {
    "collapsed": false,
    "pycharm": {
     "name": "#%%\n"
    }
   }
  },
  {
   "cell_type": "code",
   "execution_count": 11,
   "outputs": [],
   "source": [
    "@app.callback(\n",
    "    Output(component_id='sales_cat', component_property='figure'),\n",
    "    Input(component_id='sale_date', component_property='date')\n",
    ")\n",
    "def update_plot(input_date):\n",
    "    sales = ecom_sales.copy(deep=True)\n",
    "    if input_date:\n",
    "        sales = sales[sales['InvoiceDate']== input_date]\n",
    "    ecom_bar_major_cat = sales.groupby('Major Category')['OrderValue'].agg('sum').reset_index(name='Total Sales ($)')\n",
    "    bar_fig_major_cat = px.bar(title=f'Sales on: {input_date}',data_frame=ecom_bar_major_cat, orientation='h', x='Total Sales ($)', y='Major Category')\n",
    "    return bar_fig_major_cat"
   ],
   "metadata": {
    "collapsed": false,
    "pycharm": {
     "name": "#%%\n"
    }
   }
  },
  {
   "cell_type": "code",
   "execution_count": 13,
   "outputs": [
    {
     "name": "stdout",
     "output_type": "stream",
     "text": [
      "Dash is running on http://127.0.0.1:8050/\n",
      "\n",
      "Dash is running on http://127.0.0.1:8050/\n",
      "\n",
      " * Serving Flask app '__main__' (lazy loading)\n",
      " * Environment: production\n",
      "\u001B[31m   WARNING: This is a development server. Do not use it in a production deployment.\u001B[0m\n",
      "\u001B[2m   Use a production WSGI server instead.\u001B[0m\n",
      " * Debug mode: off\n"
     ]
    },
    {
     "ename": "TypeError",
     "evalue": "run_simple() got an unexpected keyword argument 'mode'",
     "output_type": "error",
     "traceback": [
      "\u001B[1;31m---------------------------------------------------------------------------\u001B[0m",
      "\u001B[1;31mTypeError\u001B[0m                                 Traceback (most recent call last)",
      "Input \u001B[1;32mIn [13]\u001B[0m, in \u001B[0;36m<cell line: 1>\u001B[1;34m()\u001B[0m\n\u001B[0;32m      1\u001B[0m \u001B[38;5;28;01mif\u001B[39;00m \u001B[38;5;18m__name__\u001B[39m \u001B[38;5;241m==\u001B[39m \u001B[38;5;124m'\u001B[39m\u001B[38;5;124m__main__\u001B[39m\u001B[38;5;124m'\u001B[39m:\n\u001B[1;32m----> 2\u001B[0m     \u001B[43mapp\u001B[49m\u001B[38;5;241;43m.\u001B[39;49m\u001B[43mrun_server\u001B[49m\u001B[43m(\u001B[49m\u001B[43mmode\u001B[49m\u001B[38;5;241;43m=\u001B[39;49m\u001B[38;5;124;43m'\u001B[39;49m\u001B[38;5;124;43mjupyter_lab\u001B[39;49m\u001B[38;5;124;43m'\u001B[39;49m\u001B[43m)\u001B[49m\n",
      "File \u001B[1;32mC:\\repos\\BuildingDashboardsWithDashAndPlotly\\venv\\lib\\site-packages\\dash\\dash.py:2065\u001B[0m, in \u001B[0;36mDash.run_server\u001B[1;34m(self, *args, **kwargs)\u001B[0m\n\u001B[0;32m   2059\u001B[0m \u001B[38;5;28;01mdef\u001B[39;00m \u001B[38;5;21mrun_server\u001B[39m(\u001B[38;5;28mself\u001B[39m, \u001B[38;5;241m*\u001B[39margs, \u001B[38;5;241m*\u001B[39m\u001B[38;5;241m*\u001B[39mkwargs):\n\u001B[0;32m   2060\u001B[0m     \u001B[38;5;124;03m\"\"\"`run_server` is a deprecated alias of `run` and may be removed in a\u001B[39;00m\n\u001B[0;32m   2061\u001B[0m \u001B[38;5;124;03m    future version. We recommend using `app.run` instead.\u001B[39;00m\n\u001B[0;32m   2062\u001B[0m \n\u001B[0;32m   2063\u001B[0m \u001B[38;5;124;03m    See `app.run` for usage information.\u001B[39;00m\n\u001B[0;32m   2064\u001B[0m \u001B[38;5;124;03m    \"\"\"\u001B[39;00m\n\u001B[1;32m-> 2065\u001B[0m     \u001B[38;5;28mself\u001B[39m\u001B[38;5;241m.\u001B[39mrun(\u001B[38;5;241m*\u001B[39margs, \u001B[38;5;241m*\u001B[39m\u001B[38;5;241m*\u001B[39mkwargs)\n",
      "File \u001B[1;32mC:\\repos\\BuildingDashboardsWithDashAndPlotly\\venv\\lib\\site-packages\\dash\\dash.py:2057\u001B[0m, in \u001B[0;36mDash.run\u001B[1;34m(self, host, port, proxy, debug, dev_tools_ui, dev_tools_props_check, dev_tools_serve_dev_bundles, dev_tools_hot_reload, dev_tools_hot_reload_interval, dev_tools_hot_reload_watch_interval, dev_tools_hot_reload_max_retry, dev_tools_silence_routes_logging, dev_tools_prune_errors, **flask_run_options)\u001B[0m\n\u001B[0;32m   2054\u001B[0m         \u001B[38;5;28;01melif\u001B[39;00m os\u001B[38;5;241m.\u001B[39mpath\u001B[38;5;241m.\u001B[39misfile(path):\n\u001B[0;32m   2055\u001B[0m             extra_files\u001B[38;5;241m.\u001B[39mappend(path)\n\u001B[1;32m-> 2057\u001B[0m \u001B[38;5;28mself\u001B[39m\u001B[38;5;241m.\u001B[39mserver\u001B[38;5;241m.\u001B[39mrun(host\u001B[38;5;241m=\u001B[39mhost, port\u001B[38;5;241m=\u001B[39mport, debug\u001B[38;5;241m=\u001B[39mdebug, \u001B[38;5;241m*\u001B[39m\u001B[38;5;241m*\u001B[39mflask_run_options)\n",
      "File \u001B[1;32mC:\\repos\\BuildingDashboardsWithDashAndPlotly\\venv\\lib\\site-packages\\flask\\app.py:920\u001B[0m, in \u001B[0;36mFlask.run\u001B[1;34m(self, host, port, debug, load_dotenv, **options)\u001B[0m\n\u001B[0;32m    917\u001B[0m \u001B[38;5;28;01mfrom\u001B[39;00m \u001B[38;5;21;01mwerkzeug\u001B[39;00m\u001B[38;5;21;01m.\u001B[39;00m\u001B[38;5;21;01mserving\u001B[39;00m \u001B[38;5;28;01mimport\u001B[39;00m run_simple\n\u001B[0;32m    919\u001B[0m \u001B[38;5;28;01mtry\u001B[39;00m:\n\u001B[1;32m--> 920\u001B[0m     run_simple(t\u001B[38;5;241m.\u001B[39mcast(\u001B[38;5;28mstr\u001B[39m, host), port, \u001B[38;5;28mself\u001B[39m, \u001B[38;5;241m*\u001B[39m\u001B[38;5;241m*\u001B[39moptions)\n\u001B[0;32m    921\u001B[0m \u001B[38;5;28;01mfinally\u001B[39;00m:\n\u001B[0;32m    922\u001B[0m     \u001B[38;5;66;03m# reset the first request information if the development server\u001B[39;00m\n\u001B[0;32m    923\u001B[0m     \u001B[38;5;66;03m# reset normally.  This makes it possible to restart the server\u001B[39;00m\n\u001B[0;32m    924\u001B[0m     \u001B[38;5;66;03m# without reloader and that stuff from an interactive shell.\u001B[39;00m\n\u001B[0;32m    925\u001B[0m     \u001B[38;5;28mself\u001B[39m\u001B[38;5;241m.\u001B[39m_got_first_request \u001B[38;5;241m=\u001B[39m \u001B[38;5;28;01mFalse\u001B[39;00m\n",
      "\u001B[1;31mTypeError\u001B[0m: run_simple() got an unexpected keyword argument 'mode'"
     ]
    }
   ],
   "source": [
    "if __name__ == '__main__':\n",
    "    app.run_server(mode='jupyter_lab')"
   ],
   "metadata": {
    "collapsed": false,
    "pycharm": {
     "name": "#%%\n"
    }
   }
  },
  {
   "cell_type": "code",
   "execution_count": null,
   "outputs": [],
   "source": [],
   "metadata": {
    "collapsed": false,
    "pycharm": {
     "name": "#%%\n"
    }
   }
  }
 ],
 "metadata": {
  "kernelspec": {
   "display_name": "Python 3",
   "language": "python",
   "name": "python3"
  },
  "language_info": {
   "codemirror_mode": {
    "name": "ipython",
    "version": 2
   },
   "file_extension": ".py",
   "mimetype": "text/x-python",
   "name": "python",
   "nbconvert_exporter": "python",
   "pygments_lexer": "ipython2",
   "version": "2.7.6"
  }
 },
 "nbformat": 4,
 "nbformat_minor": 0
}